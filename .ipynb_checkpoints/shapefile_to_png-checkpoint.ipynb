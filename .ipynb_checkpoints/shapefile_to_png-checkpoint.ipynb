{
 "cells": [
  {
   "cell_type": "raw",
   "id": "1683dae4",
   "metadata": {},
   "source": [
    "This code will iterate through the given shapefile, zoom to each feature, and export it as a seperate PNG file. It will ask user for the location of the shapefile, output folder to save the PNG files, and the name of a column in the inputted shapefile based on which it will name the PNG files."
   ]
  },
  {
   "cell_type": "code",
   "execution_count": null,
   "id": "00597a7b",
   "metadata": {},
   "outputs": [],
   "source": [
    "import geopandas as gpd\n",
    "import matplotlib.pyplot as plt\n",
    "import os"
   ]
  },
  {
   "cell_type": "code",
   "execution_count": null,
   "id": "dbdba437",
   "metadata": {},
   "outputs": [],
   "source": [
    "input_shapefile = input(\"Enter the path to the shapefile: \")\n",
    "output_directory = input(\"Enter the directory path where you want to save the PNG files: \")\n",
    "column_name = input(\"Enter the column name based on which you want to name the output files: \")"
   ]
  },
  {
   "cell_type": "code",
   "execution_count": null,
   "id": "0e9d12bf",
   "metadata": {},
   "outputs": [],
   "source": [
    "gdf = gpd.read_file(input_shapefile)\n",
    "\n",
    "# CLEAN THE FILE NAMES\n",
    "def clean_filename(name):\n",
    "    # Replacing problematic characters with underscores\n",
    "    return name.replace('/', '_').replace('\\\\', '_').replace(':', '_').replace('*', '_').replace('?', '_').replace('\"', '_').replace('<', '_').replace('>', '_').replace('|', '_')"
   ]
  },
  {
   "cell_type": "code",
   "execution_count": null,
   "id": "29f4de9b",
   "metadata": {},
   "outputs": [],
   "source": [
    "# Iterating over each row in the GeoDataFrame\n",
    "i = 1\n",
    "for index, row in gdf.iterrows():\n",
    "    print(f\"Progress: {i} of {len(gdf)}\")\n",
    "    print(f\"Making PNG of: {row[column_name]}\")\n",
    "\n",
    "    geometry = row.geometry\n",
    "    \n",
    "    # Extracting the value from the user-input column for the filename\n",
    "    filename = clean_filename(row[column_name]) + '.png'\n",
    "    \n",
    "    # Creating a temporary GeoDataFrame for plotting the geometry\n",
    "    gdf_temp = gpd.GeoDataFrame({'geometry': [geometry]})\n",
    "    \n",
    "    # Creating a new figure and axis\n",
    "    fig, ax = plt.subplots(figsize=(8, 8))\n",
    "    \n",
    "    # Ploting the geometry on the axis\n",
    "    gdf_temp.plot(ax=ax)\n",
    "    \n",
    "    # Setting title if necessary\n",
    "    ax.set_title(row[column_name])\n",
    "    ax.axis('off')\n",
    "    \n",
    "    # Saving the figure as PNG in the specified directory\n",
    "    filepath = os.path.join(output_directory, filename)\n",
    "    plt.savefig(filepath, dpi=300, bbox_inches='tight')\n",
    "    \n",
    "    # Releasing some memory.\n",
    "    plt.close()\n",
    "\n",
    "    i = i + 1"
   ]
  },
  {
   "cell_type": "code",
   "execution_count": null,
   "id": "2a7911ff",
   "metadata": {},
   "outputs": [],
   "source": []
  }
 ],
 "metadata": {
  "kernelspec": {
   "display_name": "Python 3 (ipykernel)",
   "language": "python",
   "name": "python3"
  },
  "language_info": {
   "codemirror_mode": {
    "name": "ipython",
    "version": 3
   },
   "file_extension": ".py",
   "mimetype": "text/x-python",
   "name": "python",
   "nbconvert_exporter": "python",
   "pygments_lexer": "ipython3",
   "version": "3.9.18"
  }
 },
 "nbformat": 4,
 "nbformat_minor": 5
}
